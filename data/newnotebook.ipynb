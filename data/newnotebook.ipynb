{
 "cells": [
  {
   "cell_type": "code",
   "execution_count": 0,
   "outputs": [],
   "source": [],
   "metadata": {
    "collapsed": false,
    "pycharm": {
     "name": "#%%\n"
    }
   }
  },
  {
   "cell_type": "code",
   "execution_count": 1,
   "outputs": [],
   "source": [
    "import pandas as pd\n",
    "import numpy as np\n",
    "from sklearn.cluster import KMeans\n",
    "import matplotlib.pyplot as plt\n",
    "import ipywidgets as widgets\n",
    "from ipywidgets import interact, interact_manual\n"
   ],
   "metadata": {
    "collapsed": false,
    "pycharm": {
     "name": "#%%\n"
    }
   }
  },
  {
   "cell_type": "markdown",
   "source": [
    "First, we will import and sanitize our datasets, starting with the COVID data from Johns Hopkins.\n"
   ],
   "metadata": {
    "collapsed": false
   }
  },
  {
   "cell_type": "code",
   "execution_count": 2,
   "outputs": [
    {
     "data": {
      "text/plain": "        UID iso2 iso3  code3    FIPS   Admin2 Province_State Country_Region  \\\n0  84001001   US  USA    840  1001.0  Autauga        Alabama             US   \n1  84001003   US  USA    840  1003.0  Baldwin        Alabama             US   \n2  84001005   US  USA    840  1005.0  Barbour        Alabama             US   \n3  84001007   US  USA    840  1007.0     Bibb        Alabama             US   \n4  84001009   US  USA    840  1009.0   Blount        Alabama             US   \n\n         Lat      Long_  ... 12/11/20  12/12/20  12/13/20  12/14/20  12/15/20  \\\n0  32.539527 -86.644082  ...     3233      3258      3300      3329      3426   \n1  30.727750 -87.722071  ...    10489     10665     10806     10898     11061   \n2  31.868263 -85.387129  ...     1264      1269      1272      1275      1292   \n3  32.996421 -87.125115  ...     1398      1417      1441      1455      1504   \n4  33.982109 -86.567906  ...     3663      3744      3776      3803      3881   \n\n   12/16/20  12/17/20  12/18/20  12/19/20  12/20/20  \n0      3510      3570      3647      3698      3741  \n1     11212     11364     11556     11722     11827  \n2      1296      1309      1318      1330      1336  \n3      1520      1548      1577      1601      1613  \n4      3950      4036      4118      4191      4218  \n\n[5 rows x 345 columns]",
      "text/html": "<div>\n<style scoped>\n    .dataframe tbody tr th:only-of-type {\n        vertical-align: middle;\n    }\n\n    .dataframe tbody tr th {\n        vertical-align: top;\n    }\n\n    .dataframe thead th {\n        text-align: right;\n    }\n</style>\n<table border=\"1\" class=\"dataframe\">\n  <thead>\n    <tr style=\"text-align: right;\">\n      <th></th>\n      <th>UID</th>\n      <th>iso2</th>\n      <th>iso3</th>\n      <th>code3</th>\n      <th>FIPS</th>\n      <th>Admin2</th>\n      <th>Province_State</th>\n      <th>Country_Region</th>\n      <th>Lat</th>\n      <th>Long_</th>\n      <th>...</th>\n      <th>12/11/20</th>\n      <th>12/12/20</th>\n      <th>12/13/20</th>\n      <th>12/14/20</th>\n      <th>12/15/20</th>\n      <th>12/16/20</th>\n      <th>12/17/20</th>\n      <th>12/18/20</th>\n      <th>12/19/20</th>\n      <th>12/20/20</th>\n    </tr>\n  </thead>\n  <tbody>\n    <tr>\n      <th>0</th>\n      <td>84001001</td>\n      <td>US</td>\n      <td>USA</td>\n      <td>840</td>\n      <td>1001.0</td>\n      <td>Autauga</td>\n      <td>Alabama</td>\n      <td>US</td>\n      <td>32.539527</td>\n      <td>-86.644082</td>\n      <td>...</td>\n      <td>3233</td>\n      <td>3258</td>\n      <td>3300</td>\n      <td>3329</td>\n      <td>3426</td>\n      <td>3510</td>\n      <td>3570</td>\n      <td>3647</td>\n      <td>3698</td>\n      <td>3741</td>\n    </tr>\n    <tr>\n      <th>1</th>\n      <td>84001003</td>\n      <td>US</td>\n      <td>USA</td>\n      <td>840</td>\n      <td>1003.0</td>\n      <td>Baldwin</td>\n      <td>Alabama</td>\n      <td>US</td>\n      <td>30.727750</td>\n      <td>-87.722071</td>\n      <td>...</td>\n      <td>10489</td>\n      <td>10665</td>\n      <td>10806</td>\n      <td>10898</td>\n      <td>11061</td>\n      <td>11212</td>\n      <td>11364</td>\n      <td>11556</td>\n      <td>11722</td>\n      <td>11827</td>\n    </tr>\n    <tr>\n      <th>2</th>\n      <td>84001005</td>\n      <td>US</td>\n      <td>USA</td>\n      <td>840</td>\n      <td>1005.0</td>\n      <td>Barbour</td>\n      <td>Alabama</td>\n      <td>US</td>\n      <td>31.868263</td>\n      <td>-85.387129</td>\n      <td>...</td>\n      <td>1264</td>\n      <td>1269</td>\n      <td>1272</td>\n      <td>1275</td>\n      <td>1292</td>\n      <td>1296</td>\n      <td>1309</td>\n      <td>1318</td>\n      <td>1330</td>\n      <td>1336</td>\n    </tr>\n    <tr>\n      <th>3</th>\n      <td>84001007</td>\n      <td>US</td>\n      <td>USA</td>\n      <td>840</td>\n      <td>1007.0</td>\n      <td>Bibb</td>\n      <td>Alabama</td>\n      <td>US</td>\n      <td>32.996421</td>\n      <td>-87.125115</td>\n      <td>...</td>\n      <td>1398</td>\n      <td>1417</td>\n      <td>1441</td>\n      <td>1455</td>\n      <td>1504</td>\n      <td>1520</td>\n      <td>1548</td>\n      <td>1577</td>\n      <td>1601</td>\n      <td>1613</td>\n    </tr>\n    <tr>\n      <th>4</th>\n      <td>84001009</td>\n      <td>US</td>\n      <td>USA</td>\n      <td>840</td>\n      <td>1009.0</td>\n      <td>Blount</td>\n      <td>Alabama</td>\n      <td>US</td>\n      <td>33.982109</td>\n      <td>-86.567906</td>\n      <td>...</td>\n      <td>3663</td>\n      <td>3744</td>\n      <td>3776</td>\n      <td>3803</td>\n      <td>3881</td>\n      <td>3950</td>\n      <td>4036</td>\n      <td>4118</td>\n      <td>4191</td>\n      <td>4218</td>\n    </tr>\n  </tbody>\n</table>\n<p>5 rows × 345 columns</p>\n</div>"
     },
     "execution_count": 2,
     "metadata": {},
     "output_type": "execute_result"
    }
   ],
   "source": [
    "dfCOVID = pd.read_csv('johnshopkins.csv')\n",
    "dfCOVID.head()\n"
   ],
   "metadata": {
    "collapsed": false,
    "pycharm": {
     "name": "#%%\n"
    }
   }
  },
  {
   "cell_type": "markdown",
   "source": [
    "The imported COVID dataset has several columns that are not useful for the scope of this project. Let's drop those."
   ],
   "metadata": {
    "collapsed": false
   }
  },
  {
   "cell_type": "code",
   "execution_count": 3,
   "outputs": [
    {
     "data": {
      "text/plain": "        UID  1/22/20  1/23/20  1/24/20  1/25/20  1/26/20  1/27/20  1/28/20  \\\n0  84001001        0        0        0        0        0        0        0   \n1  84001003        0        0        0        0        0        0        0   \n2  84001005        0        0        0        0        0        0        0   \n3  84001007        0        0        0        0        0        0        0   \n4  84001009        0        0        0        0        0        0        0   \n\n   1/29/20  1/30/20  ...  12/11/20  12/12/20  12/13/20  12/14/20  12/15/20  \\\n0        0        0  ...      3233      3258      3300      3329      3426   \n1        0        0  ...     10489     10665     10806     10898     11061   \n2        0        0  ...      1264      1269      1272      1275      1292   \n3        0        0  ...      1398      1417      1441      1455      1504   \n4        0        0  ...      3663      3744      3776      3803      3881   \n\n   12/16/20  12/17/20  12/18/20  12/19/20  12/20/20  \n0      3510      3570      3647      3698      3741  \n1     11212     11364     11556     11722     11827  \n2      1296      1309      1318      1330      1336  \n3      1520      1548      1577      1601      1613  \n4      3950      4036      4118      4191      4218  \n\n[5 rows x 335 columns]",
      "text/html": "<div>\n<style scoped>\n    .dataframe tbody tr th:only-of-type {\n        vertical-align: middle;\n    }\n\n    .dataframe tbody tr th {\n        vertical-align: top;\n    }\n\n    .dataframe thead th {\n        text-align: right;\n    }\n</style>\n<table border=\"1\" class=\"dataframe\">\n  <thead>\n    <tr style=\"text-align: right;\">\n      <th></th>\n      <th>UID</th>\n      <th>1/22/20</th>\n      <th>1/23/20</th>\n      <th>1/24/20</th>\n      <th>1/25/20</th>\n      <th>1/26/20</th>\n      <th>1/27/20</th>\n      <th>1/28/20</th>\n      <th>1/29/20</th>\n      <th>1/30/20</th>\n      <th>...</th>\n      <th>12/11/20</th>\n      <th>12/12/20</th>\n      <th>12/13/20</th>\n      <th>12/14/20</th>\n      <th>12/15/20</th>\n      <th>12/16/20</th>\n      <th>12/17/20</th>\n      <th>12/18/20</th>\n      <th>12/19/20</th>\n      <th>12/20/20</th>\n    </tr>\n  </thead>\n  <tbody>\n    <tr>\n      <th>0</th>\n      <td>84001001</td>\n      <td>0</td>\n      <td>0</td>\n      <td>0</td>\n      <td>0</td>\n      <td>0</td>\n      <td>0</td>\n      <td>0</td>\n      <td>0</td>\n      <td>0</td>\n      <td>...</td>\n      <td>3233</td>\n      <td>3258</td>\n      <td>3300</td>\n      <td>3329</td>\n      <td>3426</td>\n      <td>3510</td>\n      <td>3570</td>\n      <td>3647</td>\n      <td>3698</td>\n      <td>3741</td>\n    </tr>\n    <tr>\n      <th>1</th>\n      <td>84001003</td>\n      <td>0</td>\n      <td>0</td>\n      <td>0</td>\n      <td>0</td>\n      <td>0</td>\n      <td>0</td>\n      <td>0</td>\n      <td>0</td>\n      <td>0</td>\n      <td>...</td>\n      <td>10489</td>\n      <td>10665</td>\n      <td>10806</td>\n      <td>10898</td>\n      <td>11061</td>\n      <td>11212</td>\n      <td>11364</td>\n      <td>11556</td>\n      <td>11722</td>\n      <td>11827</td>\n    </tr>\n    <tr>\n      <th>2</th>\n      <td>84001005</td>\n      <td>0</td>\n      <td>0</td>\n      <td>0</td>\n      <td>0</td>\n      <td>0</td>\n      <td>0</td>\n      <td>0</td>\n      <td>0</td>\n      <td>0</td>\n      <td>...</td>\n      <td>1264</td>\n      <td>1269</td>\n      <td>1272</td>\n      <td>1275</td>\n      <td>1292</td>\n      <td>1296</td>\n      <td>1309</td>\n      <td>1318</td>\n      <td>1330</td>\n      <td>1336</td>\n    </tr>\n    <tr>\n      <th>3</th>\n      <td>84001007</td>\n      <td>0</td>\n      <td>0</td>\n      <td>0</td>\n      <td>0</td>\n      <td>0</td>\n      <td>0</td>\n      <td>0</td>\n      <td>0</td>\n      <td>0</td>\n      <td>...</td>\n      <td>1398</td>\n      <td>1417</td>\n      <td>1441</td>\n      <td>1455</td>\n      <td>1504</td>\n      <td>1520</td>\n      <td>1548</td>\n      <td>1577</td>\n      <td>1601</td>\n      <td>1613</td>\n    </tr>\n    <tr>\n      <th>4</th>\n      <td>84001009</td>\n      <td>0</td>\n      <td>0</td>\n      <td>0</td>\n      <td>0</td>\n      <td>0</td>\n      <td>0</td>\n      <td>0</td>\n      <td>0</td>\n      <td>0</td>\n      <td>...</td>\n      <td>3663</td>\n      <td>3744</td>\n      <td>3776</td>\n      <td>3803</td>\n      <td>3881</td>\n      <td>3950</td>\n      <td>4036</td>\n      <td>4118</td>\n      <td>4191</td>\n      <td>4218</td>\n    </tr>\n  </tbody>\n</table>\n<p>5 rows × 335 columns</p>\n</div>"
     },
     "execution_count": 3,
     "metadata": {},
     "output_type": "execute_result"
    }
   ],
   "source": [
    "to_drop = ['iso2',\n",
    "           'iso3',\n",
    "           'code3',\n",
    "           'FIPS',\n",
    "           'Country_Region',\n",
    "           'Admin2',\n",
    "           'Province_State',\n",
    "           'Combined_Key',\n",
    "           'Lat',\n",
    "           'Long_']\n",
    "\n",
    "dfCOVID.drop(to_drop, inplace=True, axis=1)\n",
    "\n",
    "dfCOVID.head()"
   ],
   "metadata": {
    "collapsed": false,
    "pycharm": {
     "name": "#%%\n"
    }
   }
  },
  {
   "cell_type": "markdown",
   "source": [
    "The Johns Hopkins team has already assigned a unique identifier to each county - let's make sure we have it set\n",
    "as the index for our dataframe."
   ],
   "metadata": {
    "collapsed": false
   }
  },
  {
   "cell_type": "code",
   "execution_count": 4,
   "outputs": [
    {
     "data": {
      "text/plain": "          1/22/20  1/23/20  1/24/20  1/25/20  1/26/20  1/27/20  1/28/20  \\\nUID                                                                       \n84001001        0        0        0        0        0        0        0   \n84001003        0        0        0        0        0        0        0   \n84001005        0        0        0        0        0        0        0   \n84001007        0        0        0        0        0        0        0   \n84001009        0        0        0        0        0        0        0   \n\n          1/29/20  1/30/20  1/31/20  ...  12/11/20  12/12/20  12/13/20  \\\nUID                                  ...                                 \n84001001        0        0        0  ...      3233      3258      3300   \n84001003        0        0        0  ...     10489     10665     10806   \n84001005        0        0        0  ...      1264      1269      1272   \n84001007        0        0        0  ...      1398      1417      1441   \n84001009        0        0        0  ...      3663      3744      3776   \n\n          12/14/20  12/15/20  12/16/20  12/17/20  12/18/20  12/19/20  12/20/20  \nUID                                                                             \n84001001      3329      3426      3510      3570      3647      3698      3741  \n84001003     10898     11061     11212     11364     11556     11722     11827  \n84001005      1275      1292      1296      1309      1318      1330      1336  \n84001007      1455      1504      1520      1548      1577      1601      1613  \n84001009      3803      3881      3950      4036      4118      4191      4218  \n\n[5 rows x 334 columns]",
      "text/html": "<div>\n<style scoped>\n    .dataframe tbody tr th:only-of-type {\n        vertical-align: middle;\n    }\n\n    .dataframe tbody tr th {\n        vertical-align: top;\n    }\n\n    .dataframe thead th {\n        text-align: right;\n    }\n</style>\n<table border=\"1\" class=\"dataframe\">\n  <thead>\n    <tr style=\"text-align: right;\">\n      <th></th>\n      <th>1/22/20</th>\n      <th>1/23/20</th>\n      <th>1/24/20</th>\n      <th>1/25/20</th>\n      <th>1/26/20</th>\n      <th>1/27/20</th>\n      <th>1/28/20</th>\n      <th>1/29/20</th>\n      <th>1/30/20</th>\n      <th>1/31/20</th>\n      <th>...</th>\n      <th>12/11/20</th>\n      <th>12/12/20</th>\n      <th>12/13/20</th>\n      <th>12/14/20</th>\n      <th>12/15/20</th>\n      <th>12/16/20</th>\n      <th>12/17/20</th>\n      <th>12/18/20</th>\n      <th>12/19/20</th>\n      <th>12/20/20</th>\n    </tr>\n    <tr>\n      <th>UID</th>\n      <th></th>\n      <th></th>\n      <th></th>\n      <th></th>\n      <th></th>\n      <th></th>\n      <th></th>\n      <th></th>\n      <th></th>\n      <th></th>\n      <th></th>\n      <th></th>\n      <th></th>\n      <th></th>\n      <th></th>\n      <th></th>\n      <th></th>\n      <th></th>\n      <th></th>\n      <th></th>\n      <th></th>\n    </tr>\n  </thead>\n  <tbody>\n    <tr>\n      <th>84001001</th>\n      <td>0</td>\n      <td>0</td>\n      <td>0</td>\n      <td>0</td>\n      <td>0</td>\n      <td>0</td>\n      <td>0</td>\n      <td>0</td>\n      <td>0</td>\n      <td>0</td>\n      <td>...</td>\n      <td>3233</td>\n      <td>3258</td>\n      <td>3300</td>\n      <td>3329</td>\n      <td>3426</td>\n      <td>3510</td>\n      <td>3570</td>\n      <td>3647</td>\n      <td>3698</td>\n      <td>3741</td>\n    </tr>\n    <tr>\n      <th>84001003</th>\n      <td>0</td>\n      <td>0</td>\n      <td>0</td>\n      <td>0</td>\n      <td>0</td>\n      <td>0</td>\n      <td>0</td>\n      <td>0</td>\n      <td>0</td>\n      <td>0</td>\n      <td>...</td>\n      <td>10489</td>\n      <td>10665</td>\n      <td>10806</td>\n      <td>10898</td>\n      <td>11061</td>\n      <td>11212</td>\n      <td>11364</td>\n      <td>11556</td>\n      <td>11722</td>\n      <td>11827</td>\n    </tr>\n    <tr>\n      <th>84001005</th>\n      <td>0</td>\n      <td>0</td>\n      <td>0</td>\n      <td>0</td>\n      <td>0</td>\n      <td>0</td>\n      <td>0</td>\n      <td>0</td>\n      <td>0</td>\n      <td>0</td>\n      <td>...</td>\n      <td>1264</td>\n      <td>1269</td>\n      <td>1272</td>\n      <td>1275</td>\n      <td>1292</td>\n      <td>1296</td>\n      <td>1309</td>\n      <td>1318</td>\n      <td>1330</td>\n      <td>1336</td>\n    </tr>\n    <tr>\n      <th>84001007</th>\n      <td>0</td>\n      <td>0</td>\n      <td>0</td>\n      <td>0</td>\n      <td>0</td>\n      <td>0</td>\n      <td>0</td>\n      <td>0</td>\n      <td>0</td>\n      <td>0</td>\n      <td>...</td>\n      <td>1398</td>\n      <td>1417</td>\n      <td>1441</td>\n      <td>1455</td>\n      <td>1504</td>\n      <td>1520</td>\n      <td>1548</td>\n      <td>1577</td>\n      <td>1601</td>\n      <td>1613</td>\n    </tr>\n    <tr>\n      <th>84001009</th>\n      <td>0</td>\n      <td>0</td>\n      <td>0</td>\n      <td>0</td>\n      <td>0</td>\n      <td>0</td>\n      <td>0</td>\n      <td>0</td>\n      <td>0</td>\n      <td>0</td>\n      <td>...</td>\n      <td>3663</td>\n      <td>3744</td>\n      <td>3776</td>\n      <td>3803</td>\n      <td>3881</td>\n      <td>3950</td>\n      <td>4036</td>\n      <td>4118</td>\n      <td>4191</td>\n      <td>4218</td>\n    </tr>\n  </tbody>\n</table>\n<p>5 rows × 334 columns</p>\n</div>"
     },
     "execution_count": 4,
     "metadata": {},
     "output_type": "execute_result"
    }
   ],
   "source": [
    "dfCOVID = dfCOVID.set_index('UID')\n",
    "dfCOVID.head()"
   ],
   "metadata": {
    "collapsed": false,
    "pycharm": {
     "name": "#%%\n"
    }
   }
  },
  {
   "cell_type": "markdown",
   "source": [
    "Next, let's make sure our columns' datatypes are set up appropriately. We'll leave the string columns as they are,\n",
    "but we'll need to make sure each of the case count columns is stored numerically.\n",
    "\n"
   ],
   "metadata": {
    "collapsed": false
   }
  },
  {
   "cell_type": "code",
   "execution_count": 5,
   "outputs": [
    {
     "name": "stdout",
     "output_type": "stream",
     "text": [
      "          1/22/20  1/23/20  1/24/20  1/25/20  1/26/20  1/27/20  1/28/20  \\\n",
      "UID                                                                       \n",
      "84001001        0        0        0        0        0        0        0   \n",
      "84001003        0        0        0        0        0        0        0   \n",
      "84001005        0        0        0        0        0        0        0   \n",
      "84001007        0        0        0        0        0        0        0   \n",
      "84001009        0        0        0        0        0        0        0   \n",
      "...           ...      ...      ...      ...      ...      ...      ...   \n",
      "84056039        0        0        0        0        0        0        0   \n",
      "84056041        0        0        0        0        0        0        0   \n",
      "84090056        0        0        0        0        0        0        0   \n",
      "84056043        0        0        0        0        0        0        0   \n",
      "84056045        0        0        0        0        0        0        0   \n",
      "\n",
      "          1/29/20  1/30/20  1/31/20  ...  12/11/20  12/12/20  12/13/20  \\\n",
      "UID                                  ...                                 \n",
      "84001001        0        0        0  ...      3233      3258      3300   \n",
      "84001003        0        0        0  ...     10489     10665     10806   \n",
      "84001005        0        0        0  ...      1264      1269      1272   \n",
      "84001007        0        0        0  ...      1398      1417      1441   \n",
      "84001009        0        0        0  ...      3663      3744      3776   \n",
      "...           ...      ...      ...  ...       ...       ...       ...   \n",
      "84056039        0        0        0  ...      1868      1886      1905   \n",
      "84056041        0        0        0  ...      1281      1289      1307   \n",
      "84090056        0        0        0  ...         0         0         0   \n",
      "84056043        0        0        0  ...       620       629       639   \n",
      "84056045        0        0        0  ...       428       428       428   \n",
      "\n",
      "          12/14/20  12/15/20  12/16/20  12/17/20  12/18/20  12/19/20  12/20/20  \n",
      "UID                                                                             \n",
      "84001001      3329      3426      3510      3570      3647      3698      3741  \n",
      "84001003     10898     11061     11212     11364     11556     11722     11827  \n",
      "84001005      1275      1292      1296      1309      1318      1330      1336  \n",
      "84001007      1455      1504      1520      1548      1577      1601      1613  \n",
      "84001009      3803      3881      3950      4036      4118      4191      4218  \n",
      "...            ...       ...       ...       ...       ...       ...       ...  \n",
      "84056039      1930      1940      1958      1974      1990      1992      2002  \n",
      "84056041      1327      1352      1363      1372      1399      1406      1416  \n",
      "84090056         0         0         0         0         0         0         0  \n",
      "84056043       644       659       662       665       690       695       699  \n",
      "84056045       429       436       436       438       443       443       446  \n",
      "\n",
      "[3340 rows x 191 columns]\n"
     ]
    },
    {
     "data": {
      "text/plain": "          1/22/20  1/23/20  1/24/20  1/25/20  1/26/20  1/27/20  1/28/20  \\\nUID                                                                       \n84001001        0        0        0        0        0        0        0   \n84001003        0        0        0        0        0        0        0   \n84001005        0        0        0        0        0        0        0   \n84001007        0        0        0        0        0        0        0   \n84001009        0        0        0        0        0        0        0   \n\n          1/29/20  1/30/20  1/31/20  ...  12/11/20  12/12/20  12/13/20  \\\nUID                                  ...                                 \n84001001        0        0        0  ...      3233      3258      3300   \n84001003        0        0        0  ...     10489     10665     10806   \n84001005        0        0        0  ...      1264      1269      1272   \n84001007        0        0        0  ...      1398      1417      1441   \n84001009        0        0        0  ...      3663      3744      3776   \n\n          12/14/20  12/15/20  12/16/20  12/17/20  12/18/20  12/19/20  12/20/20  \nUID                                                                             \n84001001      3329      3426      3510      3570      3647      3698      3741  \n84001003     10898     11061     11212     11364     11556     11722     11827  \n84001005      1275      1292      1296      1309      1318      1330      1336  \n84001007      1455      1504      1520      1548      1577      1601      1613  \n84001009      3803      3881      3950      4036      4118      4191      4218  \n\n[5 rows x 334 columns]",
      "text/html": "<div>\n<style scoped>\n    .dataframe tbody tr th:only-of-type {\n        vertical-align: middle;\n    }\n\n    .dataframe tbody tr th {\n        vertical-align: top;\n    }\n\n    .dataframe thead th {\n        text-align: right;\n    }\n</style>\n<table border=\"1\" class=\"dataframe\">\n  <thead>\n    <tr style=\"text-align: right;\">\n      <th></th>\n      <th>1/22/20</th>\n      <th>1/23/20</th>\n      <th>1/24/20</th>\n      <th>1/25/20</th>\n      <th>1/26/20</th>\n      <th>1/27/20</th>\n      <th>1/28/20</th>\n      <th>1/29/20</th>\n      <th>1/30/20</th>\n      <th>1/31/20</th>\n      <th>...</th>\n      <th>12/11/20</th>\n      <th>12/12/20</th>\n      <th>12/13/20</th>\n      <th>12/14/20</th>\n      <th>12/15/20</th>\n      <th>12/16/20</th>\n      <th>12/17/20</th>\n      <th>12/18/20</th>\n      <th>12/19/20</th>\n      <th>12/20/20</th>\n    </tr>\n    <tr>\n      <th>UID</th>\n      <th></th>\n      <th></th>\n      <th></th>\n      <th></th>\n      <th></th>\n      <th></th>\n      <th></th>\n      <th></th>\n      <th></th>\n      <th></th>\n      <th></th>\n      <th></th>\n      <th></th>\n      <th></th>\n      <th></th>\n      <th></th>\n      <th></th>\n      <th></th>\n      <th></th>\n      <th></th>\n      <th></th>\n    </tr>\n  </thead>\n  <tbody>\n    <tr>\n      <th>84001001</th>\n      <td>0</td>\n      <td>0</td>\n      <td>0</td>\n      <td>0</td>\n      <td>0</td>\n      <td>0</td>\n      <td>0</td>\n      <td>0</td>\n      <td>0</td>\n      <td>0</td>\n      <td>...</td>\n      <td>3233</td>\n      <td>3258</td>\n      <td>3300</td>\n      <td>3329</td>\n      <td>3426</td>\n      <td>3510</td>\n      <td>3570</td>\n      <td>3647</td>\n      <td>3698</td>\n      <td>3741</td>\n    </tr>\n    <tr>\n      <th>84001003</th>\n      <td>0</td>\n      <td>0</td>\n      <td>0</td>\n      <td>0</td>\n      <td>0</td>\n      <td>0</td>\n      <td>0</td>\n      <td>0</td>\n      <td>0</td>\n      <td>0</td>\n      <td>...</td>\n      <td>10489</td>\n      <td>10665</td>\n      <td>10806</td>\n      <td>10898</td>\n      <td>11061</td>\n      <td>11212</td>\n      <td>11364</td>\n      <td>11556</td>\n      <td>11722</td>\n      <td>11827</td>\n    </tr>\n    <tr>\n      <th>84001005</th>\n      <td>0</td>\n      <td>0</td>\n      <td>0</td>\n      <td>0</td>\n      <td>0</td>\n      <td>0</td>\n      <td>0</td>\n      <td>0</td>\n      <td>0</td>\n      <td>0</td>\n      <td>...</td>\n      <td>1264</td>\n      <td>1269</td>\n      <td>1272</td>\n      <td>1275</td>\n      <td>1292</td>\n      <td>1296</td>\n      <td>1309</td>\n      <td>1318</td>\n      <td>1330</td>\n      <td>1336</td>\n    </tr>\n    <tr>\n      <th>84001007</th>\n      <td>0</td>\n      <td>0</td>\n      <td>0</td>\n      <td>0</td>\n      <td>0</td>\n      <td>0</td>\n      <td>0</td>\n      <td>0</td>\n      <td>0</td>\n      <td>0</td>\n      <td>...</td>\n      <td>1398</td>\n      <td>1417</td>\n      <td>1441</td>\n      <td>1455</td>\n      <td>1504</td>\n      <td>1520</td>\n      <td>1548</td>\n      <td>1577</td>\n      <td>1601</td>\n      <td>1613</td>\n    </tr>\n    <tr>\n      <th>84001009</th>\n      <td>0</td>\n      <td>0</td>\n      <td>0</td>\n      <td>0</td>\n      <td>0</td>\n      <td>0</td>\n      <td>0</td>\n      <td>0</td>\n      <td>0</td>\n      <td>0</td>\n      <td>...</td>\n      <td>3663</td>\n      <td>3744</td>\n      <td>3776</td>\n      <td>3803</td>\n      <td>3881</td>\n      <td>3950</td>\n      <td>4036</td>\n      <td>4118</td>\n      <td>4191</td>\n      <td>4218</td>\n    </tr>\n  </tbody>\n</table>\n<p>5 rows × 334 columns</p>\n</div>"
     },
     "execution_count": 5,
     "metadata": {},
     "output_type": "execute_result"
    }
   ],
   "source": [
    "print (dfCOVID.filter(like='1'))\n",
    "for col in dfCOVID.filter(like='1').columns:\n",
    "    dfCOVID[col] = pd.to_numeric(dfCOVID[col], errors='coerce')\n",
    "\n",
    "dfCOVID.head()\n"
   ],
   "metadata": {
    "collapsed": false,
    "pycharm": {
     "name": "#%%\n"
    }
   }
  },
  {
   "cell_type": "markdown",
   "source": [
    "Next, create a new dataframe indicating the daily total case count. This will give\n",
    "us a more lightweight dataframe to work with for our analysis."
   ],
   "metadata": {
    "collapsed": false
   }
  },
  {
   "cell_type": "code",
   "execution_count": 6,
   "outputs": [
    {
     "name": "stdout",
     "output_type": "stream",
     "text": [
      "datetime64[ns]\n"
     ]
    },
    {
     "data": {
      "text/plain": "            Cases\n2020-01-22      1\n2020-01-23      1\n2020-01-24      2\n2020-01-25      2\n2020-01-26      5",
      "text/html": "<div>\n<style scoped>\n    .dataframe tbody tr th:only-of-type {\n        vertical-align: middle;\n    }\n\n    .dataframe tbody tr th {\n        vertical-align: top;\n    }\n\n    .dataframe thead th {\n        text-align: right;\n    }\n</style>\n<table border=\"1\" class=\"dataframe\">\n  <thead>\n    <tr style=\"text-align: right;\">\n      <th></th>\n      <th>Cases</th>\n    </tr>\n  </thead>\n  <tbody>\n    <tr>\n      <th>2020-01-22</th>\n      <td>1</td>\n    </tr>\n    <tr>\n      <th>2020-01-23</th>\n      <td>1</td>\n    </tr>\n    <tr>\n      <th>2020-01-24</th>\n      <td>2</td>\n    </tr>\n    <tr>\n      <th>2020-01-25</th>\n      <td>2</td>\n    </tr>\n    <tr>\n      <th>2020-01-26</th>\n      <td>5</td>\n    </tr>\n  </tbody>\n</table>\n</div>"
     },
     "execution_count": 6,
     "metadata": {},
     "output_type": "execute_result"
    }
   ],
   "source": [
    "dfCOVIDtotal = pd.DataFrame(dfCOVID.sum(),\n",
    "                            columns = ['Cases'])\n",
    "dfCOVIDtotal.index = pd.to_datetime(dfCOVIDtotal.index)\n",
    "print(dfCOVIDtotal.index.dtype)\n",
    "dfCOVIDtotal.head()"
   ],
   "metadata": {
    "collapsed": false,
    "pycharm": {
     "name": "#%%\n"
    }
   }
  },
  {
   "cell_type": "markdown",
   "source": [
    "That should do it for the COVID set - their data is managed by a highly qualified team, so let's avoid skewing the data\n",
    "by unnecessarily altering it. Next is the client's staffing data!"
   ],
   "metadata": {
    "collapsed": false
   }
  },
  {
   "cell_type": "code",
   "execution_count": 7,
   "outputs": [
    {
     "data": {
      "text/plain": "   employeeID                   clientCompany   clientIndustry   startDate  \\\n0        1776                      Corwin LLC              NaN  10/18/2020   \n1        1253  Breitenberg, Rogahn and Abbott      Real Estate    4/7/2020   \n2        1865                      Jast Group              NaN  11/18/2020   \n3        1065                       Mann-Kihn      Major Banks   1/24/2020   \n4        1880                     Conroy-Beer  Major Chemicals  11/25/2020   \n\n      endDate             jobTitle  payrate  markup  billrate     hours  \n0  10/18/2020    Account Executive    13.03      39     18.11  1.199923  \n1    4/7/2020   Research Associate    23.28      34     31.20  1.381912  \n2  11/18/2020     Dental Hygienist    10.54      29     13.60  1.452889  \n3   1/24/2020  Executive Secretary    16.46      36     22.39  1.674138  \n4  11/25/2020         Geologist II    12.29      22     14.99  2.265136  ",
      "text/html": "<div>\n<style scoped>\n    .dataframe tbody tr th:only-of-type {\n        vertical-align: middle;\n    }\n\n    .dataframe tbody tr th {\n        vertical-align: top;\n    }\n\n    .dataframe thead th {\n        text-align: right;\n    }\n</style>\n<table border=\"1\" class=\"dataframe\">\n  <thead>\n    <tr style=\"text-align: right;\">\n      <th></th>\n      <th>employeeID</th>\n      <th>clientCompany</th>\n      <th>clientIndustry</th>\n      <th>startDate</th>\n      <th>endDate</th>\n      <th>jobTitle</th>\n      <th>payrate</th>\n      <th>markup</th>\n      <th>billrate</th>\n      <th>hours</th>\n    </tr>\n  </thead>\n  <tbody>\n    <tr>\n      <th>0</th>\n      <td>1776</td>\n      <td>Corwin LLC</td>\n      <td>NaN</td>\n      <td>10/18/2020</td>\n      <td>10/18/2020</td>\n      <td>Account Executive</td>\n      <td>13.03</td>\n      <td>39</td>\n      <td>18.11</td>\n      <td>1.199923</td>\n    </tr>\n    <tr>\n      <th>1</th>\n      <td>1253</td>\n      <td>Breitenberg, Rogahn and Abbott</td>\n      <td>Real Estate</td>\n      <td>4/7/2020</td>\n      <td>4/7/2020</td>\n      <td>Research Associate</td>\n      <td>23.28</td>\n      <td>34</td>\n      <td>31.20</td>\n      <td>1.381912</td>\n    </tr>\n    <tr>\n      <th>2</th>\n      <td>1865</td>\n      <td>Jast Group</td>\n      <td>NaN</td>\n      <td>11/18/2020</td>\n      <td>11/18/2020</td>\n      <td>Dental Hygienist</td>\n      <td>10.54</td>\n      <td>29</td>\n      <td>13.60</td>\n      <td>1.452889</td>\n    </tr>\n    <tr>\n      <th>3</th>\n      <td>1065</td>\n      <td>Mann-Kihn</td>\n      <td>Major Banks</td>\n      <td>1/24/2020</td>\n      <td>1/24/2020</td>\n      <td>Executive Secretary</td>\n      <td>16.46</td>\n      <td>36</td>\n      <td>22.39</td>\n      <td>1.674138</td>\n    </tr>\n    <tr>\n      <th>4</th>\n      <td>1880</td>\n      <td>Conroy-Beer</td>\n      <td>Major Chemicals</td>\n      <td>11/25/2020</td>\n      <td>11/25/2020</td>\n      <td>Geologist II</td>\n      <td>12.29</td>\n      <td>22</td>\n      <td>14.99</td>\n      <td>2.265136</td>\n    </tr>\n  </tbody>\n</table>\n</div>"
     },
     "execution_count": 7,
     "metadata": {},
     "output_type": "execute_result"
    }
   ],
   "source": [
    "dfN7 = pd.read_csv('N7data.csv')\n",
    "dfN7.head()"
   ],
   "metadata": {
    "collapsed": false,
    "pycharm": {
     "name": "#%%\n"
    }
   }
  },
  {
   "cell_type": "markdown",
   "source": [
    "Let's drop the columns we don't need and set employeeID as our index.\n"
   ],
   "metadata": {
    "collapsed": false
   }
  },
  {
   "cell_type": "code",
   "execution_count": 8,
   "outputs": [
    {
     "data": {
      "text/plain": "             startDate     endDate  payrate  markup  billrate     hours\nemployeeID                                                             \n1776        10/18/2020  10/18/2020    13.03      39     18.11  1.199923\n1253          4/7/2020    4/7/2020    23.28      34     31.20  1.381912\n1865        11/18/2020  11/18/2020    10.54      29     13.60  1.452889\n1065         1/24/2020   1/24/2020    16.46      36     22.39  1.674138\n1880        11/25/2020  11/25/2020    12.29      22     14.99  2.265136",
      "text/html": "<div>\n<style scoped>\n    .dataframe tbody tr th:only-of-type {\n        vertical-align: middle;\n    }\n\n    .dataframe tbody tr th {\n        vertical-align: top;\n    }\n\n    .dataframe thead th {\n        text-align: right;\n    }\n</style>\n<table border=\"1\" class=\"dataframe\">\n  <thead>\n    <tr style=\"text-align: right;\">\n      <th></th>\n      <th>startDate</th>\n      <th>endDate</th>\n      <th>payrate</th>\n      <th>markup</th>\n      <th>billrate</th>\n      <th>hours</th>\n    </tr>\n    <tr>\n      <th>employeeID</th>\n      <th></th>\n      <th></th>\n      <th></th>\n      <th></th>\n      <th></th>\n      <th></th>\n    </tr>\n  </thead>\n  <tbody>\n    <tr>\n      <th>1776</th>\n      <td>10/18/2020</td>\n      <td>10/18/2020</td>\n      <td>13.03</td>\n      <td>39</td>\n      <td>18.11</td>\n      <td>1.199923</td>\n    </tr>\n    <tr>\n      <th>1253</th>\n      <td>4/7/2020</td>\n      <td>4/7/2020</td>\n      <td>23.28</td>\n      <td>34</td>\n      <td>31.20</td>\n      <td>1.381912</td>\n    </tr>\n    <tr>\n      <th>1865</th>\n      <td>11/18/2020</td>\n      <td>11/18/2020</td>\n      <td>10.54</td>\n      <td>29</td>\n      <td>13.60</td>\n      <td>1.452889</td>\n    </tr>\n    <tr>\n      <th>1065</th>\n      <td>1/24/2020</td>\n      <td>1/24/2020</td>\n      <td>16.46</td>\n      <td>36</td>\n      <td>22.39</td>\n      <td>1.674138</td>\n    </tr>\n    <tr>\n      <th>1880</th>\n      <td>11/25/2020</td>\n      <td>11/25/2020</td>\n      <td>12.29</td>\n      <td>22</td>\n      <td>14.99</td>\n      <td>2.265136</td>\n    </tr>\n  </tbody>\n</table>\n</div>"
     },
     "execution_count": 8,
     "metadata": {},
     "output_type": "execute_result"
    }
   ],
   "source": [
    "to_drop = ['clientCompany',\n",
    "           'clientIndustry',\n",
    "           'jobTitle']\n",
    "\n",
    "dfN7.drop(to_drop, inplace=True, axis=1)\n",
    "dfN7 = dfN7.set_index('employeeID')\n",
    "dfN7.head()"
   ],
   "metadata": {
    "collapsed": false,
    "pycharm": {
     "name": "#%%\n"
    }
   }
  },
  {
   "cell_type": "markdown",
   "source": [
    "Just like our COVID set, we'll make sure numerical data is stored as an appropriate datatype."
   ],
   "metadata": {
    "collapsed": false
   }
  },
  {
   "cell_type": "code",
   "execution_count": 9,
   "outputs": [
    {
     "data": {
      "text/plain": "            startDate    endDate  payrate  markup  billrate     hours\nemployeeID                                                           \n1776       2020-10-18 2020-10-18    13.03      39     18.11  1.199923\n1253       2020-04-07 2020-04-07    23.28      34     31.20  1.381912\n1865       2020-11-18 2020-11-18    10.54      29     13.60  1.452889\n1065       2020-01-24 2020-01-24    16.46      36     22.39  1.674138\n1880       2020-11-25 2020-11-25    12.29      22     14.99  2.265136",
      "text/html": "<div>\n<style scoped>\n    .dataframe tbody tr th:only-of-type {\n        vertical-align: middle;\n    }\n\n    .dataframe tbody tr th {\n        vertical-align: top;\n    }\n\n    .dataframe thead th {\n        text-align: right;\n    }\n</style>\n<table border=\"1\" class=\"dataframe\">\n  <thead>\n    <tr style=\"text-align: right;\">\n      <th></th>\n      <th>startDate</th>\n      <th>endDate</th>\n      <th>payrate</th>\n      <th>markup</th>\n      <th>billrate</th>\n      <th>hours</th>\n    </tr>\n    <tr>\n      <th>employeeID</th>\n      <th></th>\n      <th></th>\n      <th></th>\n      <th></th>\n      <th></th>\n      <th></th>\n    </tr>\n  </thead>\n  <tbody>\n    <tr>\n      <th>1776</th>\n      <td>2020-10-18</td>\n      <td>2020-10-18</td>\n      <td>13.03</td>\n      <td>39</td>\n      <td>18.11</td>\n      <td>1.199923</td>\n    </tr>\n    <tr>\n      <th>1253</th>\n      <td>2020-04-07</td>\n      <td>2020-04-07</td>\n      <td>23.28</td>\n      <td>34</td>\n      <td>31.20</td>\n      <td>1.381912</td>\n    </tr>\n    <tr>\n      <th>1865</th>\n      <td>2020-11-18</td>\n      <td>2020-11-18</td>\n      <td>10.54</td>\n      <td>29</td>\n      <td>13.60</td>\n      <td>1.452889</td>\n    </tr>\n    <tr>\n      <th>1065</th>\n      <td>2020-01-24</td>\n      <td>2020-01-24</td>\n      <td>16.46</td>\n      <td>36</td>\n      <td>22.39</td>\n      <td>1.674138</td>\n    </tr>\n    <tr>\n      <th>1880</th>\n      <td>2020-11-25</td>\n      <td>2020-11-25</td>\n      <td>12.29</td>\n      <td>22</td>\n      <td>14.99</td>\n      <td>2.265136</td>\n    </tr>\n  </tbody>\n</table>\n</div>"
     },
     "execution_count": 9,
     "metadata": {},
     "output_type": "execute_result"
    }
   ],
   "source": [
    "dfN7['startDate'] = pd.to_datetime(dfN7['startDate'], format='%m/%d/%Y')\n",
    "dfN7['endDate'] = pd.to_datetime(dfN7['endDate'], format='%m/%d/%Y')\n",
    "dfN7['payrate'] = pd.to_numeric(dfN7['payrate'])\n",
    "dfN7['markup'] = pd.to_numeric(dfN7['markup'])\n",
    "dfN7['billrate'] = pd.to_numeric(dfN7['billrate'])\n",
    "dfN7['hours'] = pd.to_numeric(dfN7['hours'])\n",
    "dfN7.head()"
   ],
   "metadata": {
    "collapsed": false,
    "pycharm": {
     "name": "#%%\n"
    }
   }
  },
  {
   "cell_type": "code",
   "execution_count": 10,
   "outputs": [
    {
     "data": {
      "text/plain": "interactive(children=(DatePicker(value=Timestamp('2020-01-01 00:00:00'), description='Start Date'), DatePicker…",
      "application/vnd.jupyter.widget-view+json": {
       "version_major": 2,
       "version_minor": 0,
       "model_id": "f1f12e18a7b74e6d87fbcf0e4bb7492e"
      }
     },
     "metadata": {},
     "output_type": "display_data"
    }
   ],
   "source": [
    "def find_cases_in_date_range(start_date, end_date):\n",
    "    start_date = pd.Timestamp(start_date)\n",
    "    end_date = pd.Timestamp(end_date)\n",
    "    dfCasesInDateRange = dfCOVIDtotal.loc[(dfCOVIDtotal.index >= start_date) & (dfCOVIDtotal.index <= end_date)].copy()\n",
    "    total_cases = dfCasesInDateRange['Cases'].sum()\n",
    "    print(f'There were {total_cases} COVID cases between {start_date.date()} and {end_date.date()}.')\n",
    "    return dfCasesInDateRange\n",
    "\n",
    "_ = interact(find_cases_in_date_range,\n",
    "             start_date=widgets.DatePicker(value=pd.to_datetime('2020-01-01'), description=\"Start Date\", disabled=False),\n",
    "             end_date=widgets.DatePicker(value=pd.to_datetime('2020-12-25'), description=\"End Date\", disabled=False))"
   ],
   "metadata": {
    "collapsed": false,
    "pycharm": {
     "name": "#%%\n"
    }
   }
  },
  {
   "cell_type": "code",
   "execution_count": 11,
   "outputs": [
    {
     "data": {
      "text/plain": "interactive(children=(DatePicker(value=Timestamp('2020-01-01 00:00:00'), description='Start Date'), DatePicker…",
      "application/vnd.jupyter.widget-view+json": {
       "version_major": 2,
       "version_minor": 0,
       "model_id": "a4397f94540c404ab01a7fbf2b82e6f5"
      }
     },
     "metadata": {},
     "output_type": "display_data"
    }
   ],
   "source": [
    "def find_placements_in_date_range(start_date, end_date):\n",
    "    start_date = pd.Timestamp(start_date)\n",
    "    end_date = pd.Timestamp(end_date)\n",
    "    dfPlacementsInDateRange = dfN7.loc[(dfN7.startDate >= start_date) & (dfN7.endDate <= end_date)].copy()\n",
    "    total_placements = dfPlacementsInDateRange.count()\n",
    "    print(f'There were {total_placements.startDate} placements active between {start_date.date()} and {end_date.date()}.')\n",
    "    return dfPlacementsInDateRange\n",
    "\n",
    "_ = interact(find_placements_in_date_range,\n",
    "             start_date=widgets.DatePicker(value=pd.to_datetime('2020-01-01'), description=\"Start Date\", disabled=False),\n",
    "             end_date=widgets.DatePicker(value=pd.to_datetime('2020-12-25'), description=\"End Date\", disabled=False))\n"
   ],
   "metadata": {
    "collapsed": false,
    "pycharm": {
     "name": "#%%\n"
    }
   }
  },
  {
   "cell_type": "code",
   "execution_count": 12,
   "outputs": [],
   "source": [
    "def find_placements_active_on_date(date_input):\n",
    "    date = pd.Timestamp(date_input)\n",
    "    dfActivePlacementsByDate = dfN7.loc[(dfN7.startDate <= date) & (dfN7.endDate >= date)].copy()\n",
    "    date_placements = dfActivePlacementsByDate.count()\n",
    "    return date_placements.startDate"
   ],
   "metadata": {
    "collapsed": false,
    "pycharm": {
     "name": "#%%\n"
    }
   }
  },
  {
   "cell_type": "code",
   "execution_count": 13,
   "outputs": [
    {
     "data": {
      "text/plain": "            Cases  Active Placements\n2020-01-22      1                 57\n2020-01-23      1                 60\n2020-01-24      2                 61\n2020-01-25      2                 63\n2020-01-26      5                 69",
      "text/html": "<div>\n<style scoped>\n    .dataframe tbody tr th:only-of-type {\n        vertical-align: middle;\n    }\n\n    .dataframe tbody tr th {\n        vertical-align: top;\n    }\n\n    .dataframe thead th {\n        text-align: right;\n    }\n</style>\n<table border=\"1\" class=\"dataframe\">\n  <thead>\n    <tr style=\"text-align: right;\">\n      <th></th>\n      <th>Cases</th>\n      <th>Active Placements</th>\n    </tr>\n  </thead>\n  <tbody>\n    <tr>\n      <th>2020-01-22</th>\n      <td>1</td>\n      <td>57</td>\n    </tr>\n    <tr>\n      <th>2020-01-23</th>\n      <td>1</td>\n      <td>60</td>\n    </tr>\n    <tr>\n      <th>2020-01-24</th>\n      <td>2</td>\n      <td>61</td>\n    </tr>\n    <tr>\n      <th>2020-01-25</th>\n      <td>2</td>\n      <td>63</td>\n    </tr>\n    <tr>\n      <th>2020-01-26</th>\n      <td>5</td>\n      <td>69</td>\n    </tr>\n  </tbody>\n</table>\n</div>"
     },
     "execution_count": 13,
     "metadata": {},
     "output_type": "execute_result"
    }
   ],
   "source": [
    "dfCOVIDtotal['Active Placements'] = [find_placements_active_on_date(x) for x in dfCOVIDtotal.index]\n",
    "dfCOVIDtotal.head()\n"
   ],
   "metadata": {
    "collapsed": false,
    "pycharm": {
     "name": "#%%\n"
    }
   }
  },
  {
   "cell_type": "code",
   "execution_count": 14,
   "outputs": [
    {
     "data": {
      "text/plain": "interactive(children=(DatePicker(value=Timestamp('2020-01-01 00:00:00'), description='Start Date'), DatePicker…",
      "application/vnd.jupyter.widget-view+json": {
       "version_major": 2,
       "version_minor": 0,
       "model_id": "95c0c51e5faa4212bd463d150646f3f2"
      }
     },
     "metadata": {},
     "output_type": "display_data"
    }
   ],
   "source": [
    "def date_filter(start_date, end_date):\n",
    "    start_date = pd.Timestamp(start_date)\n",
    "    end_date = pd.Timestamp(end_date)\n",
    "    global dfFilterResults\n",
    "    dfFilterResults = dfCOVIDtotal.loc[(dfCOVIDtotal.index >= start_date) & (dfCOVIDtotal.index <= end_date)].copy()\n",
    "    return dfFilterResults\n",
    "\n",
    "_ = interact(date_filter,\n",
    "             start_date=widgets.DatePicker(value=pd.to_datetime('2020-01-01'), description=\"Start Date\", disabled=False),\n",
    "             end_date=widgets.DatePicker(value=pd.to_datetime('2020-12-25'), description=\"End Date\", disabled=False))"
   ],
   "metadata": {
    "collapsed": false,
    "pycharm": {
     "name": "#%%\n"
    }
   }
  },
  {
   "cell_type": "code",
   "execution_count": 28,
   "outputs": [
    {
     "data": {
      "text/plain": "interactive(children=(DatePicker(value=Timestamp('2020-01-01 00:00:00'), description='Start Date'), DatePicker…",
      "application/vnd.jupyter.widget-view+json": {
       "version_major": 2,
       "version_minor": 0,
       "model_id": "c5417ec5eb7d4540beba6df509a3c242"
      }
     },
     "metadata": {},
     "output_type": "display_data"
    }
   ],
   "source": [
    "def scatterplot(start_date, end_date):\n",
    "    start_date = pd.Timestamp(start_date)\n",
    "    end_date = pd.Timestamp(end_date)\n",
    "    dfDataInDateRange = dfCOVIDtotal.loc[(dfCOVIDtotal.index >= start_date) & (dfCOVIDtotal.index <= end_date)].copy()\n",
    "\n",
    "    fig = plt.figure()\n",
    "    ax1 = fig.add_subplot(111)\n",
    "    ax1.plot(dfDataInDateRange.index, dfDataInDateRange['Active Placements'])\n",
    "    ax1.set_ylabel('Placements')\n",
    "\n",
    "    ax2 = ax1.twinx()\n",
    "    ax2.plot(dfDataInDateRange.index, dfDataInDateRange['Cases'], 'r-')\n",
    "    ax2.set_ylabel('Cases', color='r')\n",
    "    for t1 in ax2.get_yticklabels():\n",
    "        t1.set_color('r')\n",
    "\n",
    "    #plt.scatter(dfDataInDateRange.index, dfDataInDateRange['Active Placements'])\n",
    "    #plt.scatter(dfDataInDateRange.index, dfDataInDateRange['Cases'])\n",
    "    plt.show()\n",
    "    return dfDataInDateRange\n",
    "\n",
    "_ = interact(scatterplot,\n",
    "             start_date=widgets.DatePicker(value=pd.to_datetime('2020-01-01'), description=\"Start Date\", disabled=False),\n",
    "             end_date=widgets.DatePicker(value=pd.to_datetime('2020-12-25'), description=\"End Date\", disabled=False))"
   ],
   "metadata": {
    "collapsed": false,
    "pycharm": {
     "name": "#%%\n"
    }
   }
  },
  {
   "cell_type": "code",
   "execution_count": 16,
   "outputs": [
    {
     "data": {
      "text/plain": "interactive(children=(DatePicker(value=Timestamp('2020-01-01 00:00:00'), description='Start Date'), DatePicker…",
      "application/vnd.jupyter.widget-view+json": {
       "version_major": 2,
       "version_minor": 0,
       "model_id": "953156ac31ba4644b5eaf8b6de3db111"
      }
     },
     "metadata": {},
     "output_type": "display_data"
    }
   ],
   "source": [
    "def kmeansplot(start_date, end_date):\n",
    "    start_date = pd.Timestamp(start_date)\n",
    "    end_date = pd.Timestamp(end_date)\n",
    "    dfDataInDateRange = dfCOVIDtotal.loc[(dfCOVIDtotal.index >= start_date) & (dfCOVIDtotal.index <= end_date)].copy()\n",
    "    kmeans = KMeans (n_clusters=6).fit(dfDataInDateRange)\n",
    "    centroids = kmeans.cluster_centers_\n",
    "\n",
    "    plt.scatter(dfDataInDateRange['Cases'], dfDataInDateRange['Active Placements'], c= kmeans.labels_.astype(float), s=50, alpha=0.5)\n",
    "    plt.scatter(centroids[:, 0], centroids[:, 1], c='red')\n",
    "    plt.show()\n",
    "    return dfDataInDateRange\n",
    "\n",
    "_ = interact(kmeansplot,\n",
    "             start_date=widgets.DatePicker(value=pd.to_datetime('2020-01-01'), description=\"Start Date\", disabled=False),\n",
    "             end_date=widgets.DatePicker(value=pd.to_datetime('2020-12-25'), description=\"End Date\", disabled=False))"
   ],
   "metadata": {
    "collapsed": false,
    "pycharm": {
     "name": "#%%\n"
    }
   }
  },
  {
   "cell_type": "markdown",
   "source": [
    "Our non-descriptive method will be logistic regression.\n"
   ],
   "metadata": {
    "collapsed": false
   }
  },
  {
   "cell_type": "code",
   "execution_count": 17,
   "outputs": [
    {
     "data": {
      "text/plain": "interactive(children=(DatePicker(value=Timestamp('2020-01-01 00:00:00'), description='Start Date'), DatePicker…",
      "application/vnd.jupyter.widget-view+json": {
       "version_major": 2,
       "version_minor": 0,
       "model_id": "b353d6b556fd4df88e4f9bea7cb66b99"
      }
     },
     "metadata": {},
     "output_type": "display_data"
    }
   ],
   "source": [
    "def linearregressionplot(start_date, end_date):\n",
    "    start_date = pd.Timestamp(start_date)\n",
    "    end_date = pd.Timestamp(end_date)\n",
    "    dfDataInDateRange = dfCOVIDtotal.loc[(dfCOVIDtotal.index >= start_date) & (dfCOVIDtotal.index <= end_date)].copy()\n",
    "    d = np.polyfit(dfDataInDateRange['Cases'], dfDataInDateRange['Active Placements'], 1)\n",
    "    f = np.poly1d(d)\n",
    "    dfDataInDateRange.insert(2,'Fit',f(dfDataInDateRange['Cases']))\n",
    "    ax = dfDataInDateRange.plot(x='Cases', y='Active Placements')\n",
    "    dfDataInDateRange.plot(x='Cases', y='Fit', color='Red', ax=ax)\n",
    "\n",
    "    return dfDataInDateRange\n",
    "\n",
    "_ = interact(linearregressionplot,\n",
    "             start_date=widgets.DatePicker(value=pd.to_datetime('2020-01-01'), description=\"Start Date\", disabled=False),\n",
    "             end_date=widgets.DatePicker(value=pd.to_datetime('2020-12-25'), description=\"End Date\", disabled=False))"
   ],
   "metadata": {
    "collapsed": false,
    "pycharm": {
     "name": "#%%\n"
    }
   }
  },
  {
   "cell_type": "code",
   "execution_count": 18,
   "outputs": [],
   "source": [
    "def plot_corr(df, size=11):\n",
    "\n",
    "    corr = df.corr()\n",
    "    fig, ax = plt.subplots(figsize=(size, size))\n",
    "    ax.matshow(corr)\n",
    "    plt.xticks(range(len(corr.columns)), corr.columns)\n",
    "    plt.yticks(range(len(corr.columns)), corr.columns)"
   ],
   "metadata": {
    "collapsed": false,
    "pycharm": {
     "name": "#%%\n"
    }
   }
  },
  {
   "cell_type": "code",
   "execution_count": 19,
   "outputs": [
    {
     "data": {
      "text/plain": "<Figure size 792x792 with 1 Axes>",
      "image/png": "[encoded data removed]"
     },
     "metadata": {
      "needs_background": "light"
     },
     "output_type": "display_data"
    }
   ],
   "source": [
    "plot_corr(dfCOVIDtotal)\n",
    "\n"
   ],
   "metadata": {
    "collapsed": false,
    "pycharm": {
     "name": "#%%\n"
    }
   }
  },
  {
   "cell_type": "code",
   "execution_count": 20,
   "outputs": [
    {
     "data": {
      "text/plain": "                      Cases  Active Placements\nCases              1.000000           0.424334\nActive Placements  0.424334           1.000000",
      "text/html": "<div>\n<style scoped>\n    .dataframe tbody tr th:only-of-type {\n        vertical-align: middle;\n    }\n\n    .dataframe tbody tr th {\n        vertical-align: top;\n    }\n\n    .dataframe thead th {\n        text-align: right;\n    }\n</style>\n<table border=\"1\" class=\"dataframe\">\n  <thead>\n    <tr style=\"text-align: right;\">\n      <th></th>\n      <th>Cases</th>\n      <th>Active Placements</th>\n    </tr>\n  </thead>\n  <tbody>\n    <tr>\n      <th>Cases</th>\n      <td>1.000000</td>\n      <td>0.424334</td>\n    </tr>\n    <tr>\n      <th>Active Placements</th>\n      <td>0.424334</td>\n      <td>1.000000</td>\n    </tr>\n  </tbody>\n</table>\n</div>"
     },
     "execution_count": 20,
     "metadata": {},
     "output_type": "execute_result"
    }
   ],
   "source": [
    "dfCOVIDtotal.corr()\n",
    "\n"
   ],
   "metadata": {
    "collapsed": false,
    "pycharm": {
     "name": "#%%\n"
    }
   }
  },
  {
   "cell_type": "markdown",
   "source": [
    "### Split the Data\n",
    "\n",
    "70% Training, 30% Testing"
   ],
   "metadata": {
    "collapsed": false
   }
  },
  {
   "cell_type": "code",
   "execution_count": 31,
   "outputs": [],
   "source": [
    "from sklearn.model_selection import train_test_split\n",
    "\n",
    "feature_col_names = ['Cases']\n",
    "predicted_class_names = ['Active Placements']\n",
    "\n",
    "X = dfCOVIDtotal[feature_col_names].values\n",
    "Y = dfCOVIDtotal[predicted_class_names].values\n",
    "split_test_size = 0.30\n",
    "\n",
    "X_train, X_test, y_train, y_test = train_test_split(X, Y, test_size=split_test_size, random_state=580)\n",
    "\n"
   ],
   "metadata": {
    "collapsed": false,
    "pycharm": {
     "name": "#%%\n"
    }
   }
  },
  {
   "cell_type": "code",
   "execution_count": 32,
   "outputs": [
    {
     "name": "stdout",
     "output_type": "stream",
     "text": [
      "69.76% in training set\n",
      "30.24% in test set\n"
     ]
    }
   ],
   "source": [
    "print(\"{0:0.2f}% in training set\".format((len(X_train)/len(dfCOVIDtotal.index)) * 100))\n",
    "print(\"{0:0.2f}% in test set\".format((len(X_test)/len(dfCOVIDtotal.index)) * 100))"
   ],
   "metadata": {
    "collapsed": false,
    "pycharm": {
     "name": "#%%\n"
    }
   }
  },
  {
   "cell_type": "code",
   "execution_count": 46,
   "outputs": [
    {
     "data": {
      "text/plain": "LogisticRegression(max_iter=100000)"
     },
     "execution_count": 46,
     "metadata": {},
     "output_type": "execute_result"
    }
   ],
   "source": [
    "from sklearn.linear_model import LogisticRegression\n",
    "LogReg = LogisticRegression(solver='lbfgs', max_iter=100000)\n",
    "LogReg.fit(X_train, y_train.ravel())"
   ],
   "metadata": {
    "collapsed": false,
    "pycharm": {
     "name": "#%%\n"
    }
   }
  },
  {
   "cell_type": "code",
   "execution_count": 58,
   "outputs": [],
   "source": [
    "regression_predict = LogReg.predict(X_train)"
   ],
   "metadata": {
    "collapsed": false,
    "pycharm": {
     "name": "#%%\n"
    }
   }
  },
  {
   "cell_type": "code",
   "execution_count": 59,
   "outputs": [
    {
     "data": {
      "text/plain": "0.0594059405940594"
     },
     "execution_count": 59,
     "metadata": {},
     "output_type": "execute_result"
    }
   ],
   "source": [
    "LogReg.score(X_test, y_test)"
   ],
   "metadata": {
    "collapsed": false,
    "pycharm": {
     "name": "#%%\n"
    }
   }
  },
  {
   "cell_type": "code",
   "execution_count": 61,
   "outputs": [
    {
     "data": {
      "text/plain": "0.0"
     },
     "execution_count": 61,
     "metadata": {},
     "output_type": "execute_result"
    }
   ],
   "source": [
    "from sklearn import metrics\n",
    "\n",
    "metrics.accuracy_score(y_train, regression_predict)\n",
    "metrics.accuracy_score(y_test, X_test)"
   ],
   "metadata": {
    "collapsed": false,
    "pycharm": {
     "name": "#%%\n"
    }
   }
  },
  {
   "cell_type": "code",
   "execution_count": 73,
   "outputs": [],
   "source": [],
   "metadata": {
    "collapsed": false,
    "pycharm": {
     "name": "#%%\n"
    }
   }
  },
  {
   "cell_type": "code",
   "execution_count": 88,
   "outputs": [],
   "source": [
    "def plot_model_vs_train():\n",
    "\n",
    "    # fig = plt.figure()\n",
    "    # ax1 = fig.add_subplot(111)\n",
    "    # ax1.plot(X_train, y_train)\n",
    "    # ax1.plot(X_train, LogReg.predict(X_train))\n",
    "    # ax1.set_ylabel('Placements')\n",
    "\n",
    "    # ax2 = ax1.twinx()\n",
    "    # ax2.plot(dfDataInDateRange.index, dfDataInDateRange['Cases'], 'r-')\n",
    "    # ax2.set_ylabel('Cases', color='r')\n",
    "    # for t1 in ax2.get_yticklabels():\n",
    "    #     t1.set_color('r')\n",
    "\n",
    "    # plt.scatter(X_train,y_train)\n",
    "    # plt.scatter(LogReg.predict(X_train))\n",
    "    # plt.scatter(dfDataInDateRange.index, dfDataInDateRange['Cases'])\n",
    "\n",
    "    ax1 = plt.scatter(X_train, y_train, color='r')\n",
    "    ax2 = plt.scatter(X_train, LogReg.predict(X_train))\n",
    "    plt.show(ax1, ax2)\n",
    "    return\n",
    "\n"
   ],
   "metadata": {
    "collapsed": false,
    "pycharm": {
     "name": "#%%\n"
    }
   }
  },
  {
   "cell_type": "code",
   "execution_count": 89,
   "outputs": [],
   "source": [
    "def plot_model_vs_test():\n",
    "\n",
    "    # fig = plt.figure()\n",
    "    # ax1 = fig.add_subplot(111)\n",
    "    # ax1.plot(X_train, y_train)\n",
    "    # ax1.plot(X_train, LogReg.predict(X_train))\n",
    "    # ax1.set_ylabel('Placements')\n",
    "\n",
    "    # ax2 = ax1.twinx()\n",
    "    # ax2.plot(dfDataInDateRange.index, dfDataInDateRange['Cases'], 'r-')\n",
    "    # ax2.set_ylabel('Cases', color='r')\n",
    "    # for t1 in ax2.get_yticklabels():\n",
    "    #     t1.set_color('r')\n",
    "\n",
    "    # plt.scatter(X_train,y_train)\n",
    "    # plt.scatter(LogReg.predict(X_train))\n",
    "    # plt.scatter(dfDataInDateRange.index, dfDataInDateRange['Cases'])\n",
    "\n",
    "    ax1 = plt.scatter(X_test, y_test, color='r')\n",
    "    ax2 = plt.scatter(X_test, LogReg.predict(X_test))\n",
    "    plt.show(ax1, ax2)\n",
    "    return\n"
   ],
   "metadata": {
    "collapsed": false,
    "pycharm": {
     "name": "#%%\n"
    }
   }
  },
  {
   "cell_type": "code",
   "execution_count": 90,
   "outputs": [
    {
     "data": {
      "text/plain": "<Figure size 432x288 with 1 Axes>",
      "image/png": "[encoded data removed]"
     },
     "metadata": {
      "needs_background": "light"
     },
     "output_type": "display_data"
    },
    {
     "data": {
      "text/plain": "<Figure size 432x288 with 1 Axes>",
      "image/png": "[encoded data removed]"
     },
     "metadata": {
      "needs_background": "light"
     },
     "output_type": "display_data"
    }
   ],
   "source": [
    "plot_model_vs_train()\n",
    "plot_model_vs_test()\n"
   ],
   "metadata": {
    "collapsed": false,
    "pycharm": {
     "name": "#%%\n"
    }
   }
  },
  {
   "cell_type": "code",
   "execution_count": null,
   "outputs": [],
   "source": [
    "\n"
   ],
   "metadata": {
    "collapsed": false,
    "pycharm": {
     "name": "#%%\n"
    }
   }
  }
 ],
 "metadata": {
  "kernelspec": {
   "display_name": "Python 3",
   "language": "python",
   "name": "python3"
  },
  "language_info": {
   "codemirror_mode": {
    "name": "ipython",
    "version": 2
   },
   "file_extension": ".py",
   "mimetype": "text/x-python",
   "name": "python",
   "nbconvert_exporter": "python",
   "pygments_lexer": "ipython2",
   "version": "2.7.6"
  }
 },
 "nbformat": 4,
 "nbformat_minor": 0
}